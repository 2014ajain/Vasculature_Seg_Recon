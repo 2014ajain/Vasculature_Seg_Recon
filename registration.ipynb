{
 "cells": [
  {
   "cell_type": "code",
   "execution_count": null,
   "metadata": {},
   "outputs": [],
   "source": [
    "import SimpleITK as sitk\n",
    "import os \n",
    "import torch\n",
    "from torchvision import transforms\n",
    "import torchstain\n",
    "import cv2\n",
    "import matplotlib.pyplot as plt\n",
    "from PIL import Image\n",
    "import numpy as np\n",
    "## This code is for registering images together "
   ]
  },
  {
   "cell_type": "code",
   "execution_count": null,
   "metadata": {},
   "outputs": [],
   "source": [
    "#path to RGB images and scala/vasculature labels\n",
    "path = \"/Users/aseemjain/Documents/Research/Otopathology/Cochlea_image_newcompressed/\"\n",
    "scalapath = \"/Users/aseemjain/Documents/Research/Otopathology/scalaimagesouput/\"\n",
    "vaspath=\"/Users/aseemjain/Documents/Research/Otopathology/vascularimages/\""
   ]
  },
  {
   "cell_type": "code",
   "execution_count": null,
   "metadata": {},
   "outputs": [],
   "source": [
    "\n",
    "##Code for registration using simple elastix\n",
    "fixedimage = sitk.ReadImage(path+\"stria_\"+str(1)+\"_0000.png\",sitk.sitkInt8)\n",
    "fixedscala = sitk.ReadImage(scalapath+\"stria_\"+str(1)+\".png\",sitk.sitkInt8)\n",
    "fixedvasc = sitk.ReadImage(vaspath+\"stria_\"+str(1)+\"_0000.png\",sitk.sitkInt8)\n",
    "#fixedimage=fixedscala\n",
    "for x in range(2,110):\n",
    "    movingimage = sitk.ReadImage(path+\"stria_\"+str(x)+\"_0000.png\",sitk.sitkInt8)\n",
    "    movingscala = sitk.ReadImage(scalapath+\"stria_\"+str(x)+\".png\",sitk.sitkInt8)\n",
    "    movingvas = sitk.ReadImage(vaspath+\"stria_\"+str(x)+\"_0000.png\",sitk.sitkInt8)\n",
    "\n",
    "    selx = sitk.ElastixImageFilter()\n",
    "    selx.SetMovingImage(movingimage)\n",
    "    #selx.SetParameterMap(selx.GetDefaultParameterMap('affine'))\n",
    "    parameterMapVector = sitk.VectorOfParameterMap()\n",
    "    parameterMapVector.append(sitk.GetDefaultParameterMap(\"affine\")) # First do an affine transform\n",
    "    parameterMapVector.append(sitk.GetDefaultParameterMap(\"rigid\"))  # Then do a rigid transform for improved alignment\n",
    "    selx.SetParameterMap(parameterMapVector)\n",
    "\n",
    "    selx.SetFixedImage(fixedimage)\n",
    "    selx.Execute()\n",
    "    fixedimage=selx.GetResultImage()\n",
    "    #nda = sitk.GetArrayFromImage(fixedimage)\n",
    "    #imgplot = plt.imshow(nda)\n",
    "    transformixImageFilter = sitk.TransformixImageFilter()\n",
    "    transformixImageFilter.SetTransformParameterMap(selx.GetTransformParameterMap())\n",
    "\n",
    "    transformixImageFilter.SetMovingImage(movingscala)\n",
    "    transformixImageFilter.Execute()\n",
    "    sitk.WriteImage(transformixImageFilter.GetResultImage(), scalapath+\"stria_reg\"+str(x)+\".tiff\")\n",
    "\n",
    "    transformixImageFilter.SetMovingImage(movingvas)\n",
    "    transformixImageFilter.Execute()\n",
    "    sitk.WriteImage(transformixImageFilter.GetResultImage(), vaspath+\"vas_reg\"+str(x)+\".tiff\")"
   ]
  },
  {
   "attachments": {},
   "cell_type": "markdown",
   "metadata": {},
   "source": []
  }
 ],
 "metadata": {
  "kernelspec": {
   "display_name": "Python 3",
   "language": "python",
   "name": "python3"
  },
  "language_info": {
   "codemirror_mode": {
    "name": "ipython",
    "version": 3
   },
   "file_extension": ".py",
   "mimetype": "text/x-python",
   "name": "python",
   "nbconvert_exporter": "python",
   "pygments_lexer": "ipython3",
   "version": "3.9.13"
  },
  "orig_nbformat": 4
 },
 "nbformat": 4,
 "nbformat_minor": 2
}
